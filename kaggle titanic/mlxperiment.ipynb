{
 "cells": [
  {
   "cell_type": "markdown",
   "metadata": {},
   "source": [
    "Nothing too fancy here, just trying to see if I'm clever enoughg to recreate the kaggle example notebook except I'm going to be doing this all in mlx instead of what people would call a \"normal\" framework. \n",
    "\n",
    "Pray for me."
   ]
  },
  {
   "cell_type": "code",
   "execution_count": 1,
   "metadata": {},
   "outputs": [
    {
     "name": "stdout",
     "output_type": "stream",
     "text": [
      "./test.csv\n",
      "./titanic-tutorial.ipynb\n",
      "./train.csv\n",
      "./mlxperiment.ipynb\n",
      "./training key.numbers\n"
     ]
    }
   ],
   "source": [
    "import mlx.core as mx\n",
    "import mlx.nn as nn\n",
    "import mlx.optimizers as optim\n",
    "import mlx.data as dx\n",
    "\n",
    "import os\n",
    "from pprint import pprint\n",
    "\n",
    "# Input data files are available in this directory.\n",
    "for dirname, _, filenames in os.walk('./'):\n",
    "    for filename in filenames:\n",
    "        print(os.path.join(dirname, filename))"
   ]
  },
  {
   "cell_type": "code",
   "execution_count": null,
   "metadata": {},
   "outputs": [],
   "source": [
    "train_data = dx.stream_csv_reader(\"./train.csv\")\n",
    "\n",
    "first_row = next(train_data)\n",
    "\n",
    "formatted_row = {key: (type(value), value) for key, value in first_row.items()}\n",
    "\n",
    "pprint(formatted_row)\n",
    "# pprint(f\"Hello! This passenger's name was: {first_row['Name']}\")\n",
    "\n",
    "# Iterate over the stream and print the first three rows\n",
    "for i, row in enumerate(train_data):\n",
    "    if i < 3:\n",
    "        pprint(row)\n",
    "    else:\n",
    "        break"
   ]
  },
  {
   "cell_type": "code",
   "execution_count": null,
   "metadata": {},
   "outputs": [],
   "source": [
    "test_data = dx.stream_csv_reader(\"./test.csv\")\n",
    "\n",
    "for i, row in enumerate(test_data):\n",
    "    if i < 3:\n",
    "        pprint(row)\n",
    "    else:\n",
    "        break"
   ]
  },
  {
   "cell_type": "markdown",
   "metadata": {},
   "source": [
    "Looks to me like it's finally time to create the model!"
   ]
  },
  {
   "cell_type": "code",
   "execution_count": 8,
   "metadata": {},
   "outputs": [],
   "source": [
    "class DataProcessor:\n",
    "    def __init__(self, file_path, stats):\n",
    "        self.file_path = file_path\n",
    "        self.stats = stats\n",
    "    \n",
    "    def read_data(self):\n",
    "        data_stream = dx.stream_csv_reader(self.file_path)\n",
    "        return data_stream.sample_transform(self._common_prepare)\n",
    "\n",
    "    def prepare_for_training(self, batch_size, prefetch_count):\n",
    "        # Read and preprocess the data\n",
    "        data_stream = self.read_data()\n",
    "        # Prepare the data in batches and prefetch for training\n",
    "        num_threads = prefetch_count if prefetch_count < 4 else 4\n",
    "        return data_stream.batch(batch_size).prefetch(prefetch_count, num_threads)\n",
    "\n",
    "    def prepare_for_inference(self):\n",
    "        # Read and preprocess the data\n",
    "        data_stream = self.read_data()\n",
    "        # For inference, directly return the processed data stream\n",
    "        return data_stream\n",
    "    \n",
    "    def _common_prepare(self, sample):\n",
    "        # Remove ----------------------------------------\n",
    "        # Remove the 'Name' field\n",
    "        sample.pop('Name', None)\n",
    "\n",
    "        # One-hot encode --------------------------------\n",
    "        embarked = sample.get('Embarked', '')\n",
    "        embarked_one_hot = {\n",
    "            'Embarked_S': embarked == 'S',\n",
    "            'Embarked_C': embarked == 'C',\n",
    "            'Embarked_Q': embarked == 'Q'\n",
    "        }\n",
    "        pclass = sample.get('Pclass', '')\n",
    "        pclass_one_hot = {\n",
    "            'Pclass_1': pclass == 1,\n",
    "            'Pclass_2': pclass == 2,\n",
    "            'Pclass_3': pclass == 3\n",
    "        }\n",
    "        sex = sample.get('Sex', '')\n",
    "        sex_one_hot = {\n",
    "            'Sex_male': sex == 'male',\n",
    "            'Sex_female': sex == 'female'\n",
    "        }\n",
    "\n",
    "        # Norrmalize -------------------------------------\n",
    "        for field in self.stats:\n",
    "            if field in sample and sample[field] is not None:\n",
    "                sample[field] = (sample[field] - self.stats[field]['mean']) / self.stats[field]['std']\n",
    "\n",
    "        # Update the sample with the one-hot encoded fields and return\n",
    "        return {**sample, **embarked_one_hot, **pclass_one_hot, **sex_one_hot}"
   ]
  },
  {
   "cell_type": "markdown",
   "metadata": {},
   "source": [
    "Time for a little bit of data analysis to see just how normalized our dataset is!"
   ]
  },
  {
   "cell_type": "code",
   "execution_count": null,
   "metadata": {},
   "outputs": [],
   "source": [
    "import pandas as pd\n",
    "import matplotlib.pyplot as plt\n",
    "\n",
    "# Load in the dataset\n",
    "df = pd.read_csv('./train.csv')\n",
    "\n",
    "# Get a statistical summary\n",
    "print(df.describe())\n",
    "\n",
    "# Plot the histograms\n",
    "df.hist()\n",
    "plt.tight_layout()"
   ]
  },
  {
   "cell_type": "code",
   "execution_count": null,
   "metadata": {},
   "outputs": [],
   "source": [
    "# Show how the test data looks in comparison so we know whether or not the test data is representative of what we got\n",
    "df_test = pd.read_csv('./test.csv')\n",
    "\n",
    "# Get a statistical summary\n",
    "print(df_test.describe())\n",
    "\n",
    "# Plot the histograms\n",
    "df_test.hist()\n",
    "plt.tight_layout()"
   ]
  },
  {
   "cell_type": "code",
   "execution_count": 13,
   "metadata": {},
   "outputs": [
    {
     "ename": "",
     "evalue": "",
     "output_type": "error",
     "traceback": [
      "\u001b[1;31mThe Kernel crashed while executing code in the the current cell or a previous cell. Please review the code in the cell(s) to identify a possible cause of the failure. Click <a href='https://aka.ms/vscodeJupyterKernelCrash'>here</a> for more info. View Jupyter <a href='command:jupyter.viewOutput'>log</a> for further details."
     ]
    }
   ],
   "source": [
    "import pandas as pd\n",
    "# Load in the dataset\n",
    "df = pd.read_csv('./train.csv')\n",
    "\n",
    "# Calculate mean and standard deviation for 'Age', 'SibSp', and 'Parch'\n",
    "age_mean, age_std = df['Age'].mean(), df['Age'].std()\n",
    "sibsp_mean, sibsp_std = df['SibSp'].mean(), df['SibSp'].std()\n",
    "parch_mean, parch_std = df['Parch'].mean(), df['Parch'].std()\n",
    "\n",
    "# Store the statistics for later use\n",
    "stats = {\n",
    "    'Age': {'mean': age_mean, 'std': age_std},\n",
    "    'SibSp': {'mean': sibsp_mean, 'std': sibsp_std},\n",
    "    'Parch': {'mean': parch_mean, 'std': parch_mean}\n",
    "}\n",
    "\n",
    "# Usage example of DataProcessor\n",
    "data_processor = DataProcessor(\"./train.csv\", stats)\n",
    "\n",
    "# For training\n",
    "train_data = data_processor.prepare_for_training(batch_size=3, prefetch_count=2)\n",
    "\n",
    "print(train_data)"
   ]
  },
  {
   "cell_type": "markdown",
   "metadata": {},
   "source": [
    "Now that we have a first revision of the model down, let's work out how we're going to "
   ]
  },
  {
   "cell_type": "code",
   "execution_count": 12,
   "metadata": {},
   "outputs": [
    {
     "name": "stdout",
     "output_type": "stream",
     "text": [
      "Stream()\n"
     ]
    }
   ],
   "source": [
    "print(train_data)"
   ]
  }
 ],
 "metadata": {
  "kernelspec": {
   "display_name": "mlx",
   "language": "python",
   "name": "python3"
  },
  "language_info": {
   "codemirror_mode": {
    "name": "ipython",
    "version": 3
   },
   "file_extension": ".py",
   "mimetype": "text/x-python",
   "name": "python",
   "nbconvert_exporter": "python",
   "pygments_lexer": "ipython3",
   "version": "3.11.5"
  }
 },
 "nbformat": 4,
 "nbformat_minor": 2
}
