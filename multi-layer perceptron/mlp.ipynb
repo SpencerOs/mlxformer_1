{
 "cells": [
  {
   "cell_type": "markdown",
   "metadata": {},
   "source": [
    "# Multi-Layer Perceptron\n",
    "\n",
    "Just to get familiar with the tool, we're going to be making something a bit more basic here."
   ]
  },
  {
   "cell_type": "code",
   "execution_count": 1,
   "metadata": {},
   "outputs": [],
   "source": [
    "import mlx.core as mlx\n",
    "import mlx.nn as nn\n",
    "import mlx.optimizers as optim\n",
    "\n",
    "import numpy as np"
   ]
  },
  {
   "cell_type": "markdown",
   "metadata": {},
   "source": [
    "# Initializers\n",
    "\n",
    "According to what's next here, the model is defined as the MLP class which inherits from `mlx.nn.Module`. We follow the standard practice to make a new model.\n",
    "\n",
    "1. Define an `__init__` where the parameters and/or submodules are setup.\n",
    "2. Define a `__call__` where the computationo is implemented."
   ]
  },
  {
   "cell_type": "code",
   "execution_count": 2,
   "metadata": {},
   "outputs": [],
   "source": [
    "class MLP(nn.Module):\n",
    "    def __init__(\n",
    "            self,\n",
    "            num_layers: int,\n",
    "            input_dim: int,\n",
    "            hidden_dim: int,\n",
    "            output_dim: int\n",
    "    ):\n",
    "        super().__init__()\n",
    "        layer_sizes = [input_dim] + [hidden_dim] * num_layers + [output_dim]\n",
    "        self.layers = [\n",
    "            nn.Linear(idim, odim)\n",
    "            for idim, odim in zip(layer_sizes[:-1], layer_sizes[1:])\n",
    "        ]\n",
    "\n",
    "    def __call__( self, x ):\n",
    "        for l in self.layers[:-1]:\n",
    "            x = mlx.maximum(l(x), 0.0)\n",
    "        return self.layers[-1](x)"
   ]
  },
  {
   "cell_type": "code",
   "execution_count": 3,
   "metadata": {},
   "outputs": [],
   "source": [
    "def loss_fn(model, X, y):\n",
    "    return mlx.mean(nn.losses.cross_entropy(model(X), y))"
   ]
  },
  {
   "cell_type": "code",
   "execution_count": 4,
   "metadata": {},
   "outputs": [],
   "source": [
    "def eval_fn(model, X, y):\n",
    "    return mlx.mean(mlx.argmax(model(X), axis=1) == y)"
   ]
  },
  {
   "cell_type": "code",
   "execution_count": 5,
   "metadata": {},
   "outputs": [],
   "source": [
    "num_layers = 2\n",
    "hidden_dim = 32\n",
    "num_classes = 10\n",
    "batch_size = 256\n",
    "num_epochs = 10\n",
    "learning_rate = 1e-1\n",
    "\n",
    "# Load the data\n",
    "import mnist\n",
    "train_images, train_labels, test_images, test_labels = map(\n",
    "    mlx.array, mnist.mnist()\n",
    ")"
   ]
  },
  {
   "cell_type": "code",
   "execution_count": 6,
   "metadata": {},
   "outputs": [],
   "source": [
    "def batch_iterate(batch_size, X, y):\n",
    "    perm = mlx.array(np.random.permutation(y.size))\n",
    "    for s in range(0, y.size, batch_size):\n",
    "        ids = perm[s : s + batch_size]\n",
    "        yield X[ids], y[ids]"
   ]
  },
  {
   "cell_type": "code",
   "execution_count": 7,
   "metadata": {},
   "outputs": [
    {
     "name": "stdout",
     "output_type": "stream",
     "text": [
      "Epoch 0: Test accuracy 0.879\n",
      "Epoch 1: Test accuracy 0.904\n",
      "Epoch 2: Test accuracy 0.917\n",
      "Epoch 3: Test accuracy 0.930\n",
      "Epoch 4: Test accuracy 0.934\n",
      "Epoch 5: Test accuracy 0.940\n",
      "Epoch 6: Test accuracy 0.946\n",
      "Epoch 7: Test accuracy 0.950\n",
      "Epoch 8: Test accuracy 0.953\n",
      "Epoch 9: Test accuracy 0.956\n"
     ]
    }
   ],
   "source": [
    "# Load the model\n",
    "model = MLP(num_layers, train_images.shape[-1], hidden_dim, num_classes)\n",
    "mlx.eval(model.parameters())\n",
    "\n",
    "# Get a function which gives the loss and gradient of the\n",
    "# loss with respect to the model's trainable parameters\n",
    "loss_and_grad_fn = nn.value_and_grad(model, loss_fn)\n",
    "\n",
    "# Instantiate the optimizer\n",
    "optimizer = optim.SGD(learning_rate=learning_rate)\n",
    "\n",
    "for e in range(num_epochs):\n",
    "    for X, y in batch_iterate(batch_size, train_images, train_labels):\n",
    "        loss, grads = loss_and_grad_fn(model, X, y)\n",
    "\n",
    "        # Update the optimizer state and model parameters\n",
    "        # in a single call\n",
    "        optimizer.update(model, grads)\n",
    "\n",
    "        # Force a graph evaluation\n",
    "        mlx.eval(model.parameters(), optimizer.state)\n",
    "\n",
    "    accuracy = eval_fn(model, test_images, test_labels)\n",
    "    print(f\"Epoch {e}: Test accuracy {accuracy.item():.3f}\")"
   ]
  }
 ],
 "metadata": {
  "kernelspec": {
   "display_name": "mlx",
   "language": "python",
   "name": "python3"
  },
  "language_info": {
   "codemirror_mode": {
    "name": "ipython",
    "version": 3
   },
   "file_extension": ".py",
   "mimetype": "text/x-python",
   "name": "python",
   "nbconvert_exporter": "python",
   "pygments_lexer": "ipython3",
   "version": "3.11.5"
  }
 },
 "nbformat": 4,
 "nbformat_minor": 2
}
